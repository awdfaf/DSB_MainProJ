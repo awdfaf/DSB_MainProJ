{
 "cells": [
  {
   "cell_type": "code",
   "execution_count": 31,
   "id": "d6040da3",
   "metadata": {},
   "outputs": [
    {
     "name": "stdout",
     "output_type": "stream",
     "text": [
      "        yr indutyLclasNm indutyMlsfcNm               corpNm  \\\n",
      "0     2022            외식            치킨  라쿤치킨&떡볶이깐풍전설고구려찜닭요당   \n",
      "1     2022            외식            치킨                 호림푸드   \n",
      "2     2022            외식            치킨            (주)도담에프엔디   \n",
      "3     2022            외식            치킨             (주)케이원푸드   \n",
      "4     2022            외식            치킨               포맨에프엔씨   \n",
      "...    ...           ...           ...                  ...   \n",
      "7731  2022           서비스        기타 서비스              (주)에이피알   \n",
      "7732  2022           서비스        기타 서비스               (주)비니즈   \n",
      "7733  2022            외식     아이스크림/빙수                 ㈜맘스델리   \n",
      "7734  2022            외식     아이스크림/빙수                 헤이차일드   \n",
      "7735  2022            외식     아이스크림/빙수              (주)르뱅코리아   \n",
      "\n",
      "                       brandNm  \n",
      "0                     라쿤치킨&떡볶이  \n",
      "1                      못말리는프렌즈  \n",
      "2                 진도담찜닭(珍도담찜닭)  \n",
      "3                           꿀딱  \n",
      "4                          꼬꼬팜  \n",
      "...                        ...  \n",
      "7731                     포토그레이  \n",
      "7732                       디어웰  \n",
      "7733                     아이스맘스  \n",
      "7734                     헤이차일드  \n",
      "7735  에맥앤볼리오스(Emack & Bolio's)  \n",
      "\n",
      "[7736 rows x 5 columns]\n"
     ]
    }
   ],
   "source": [
    "## 필요한 라이브러리 임포트\n",
    "import requests\n",
    "import pprint\n",
    "import json\n",
    "import pandas as pd\n",
    "\n",
    "url = \"http://apis.data.go.kr/1130000/FftcBrandFrcsStatsService/getBrandFrcsStats\"\n",
    "params = {\n",
    "    \"serviceKey\": \"cIaG8zzGMw0joPyNGFxL2yxs6nyS8z3KmlC7+8IZ11qWT1AMBfva6DAlrd7nNxdvebfeK1wun4acoQX1H4Fu1g==\",\n",
    "    \"pageNo\": \"1\",\n",
    "    \"numOfRows\": \"10000\",\n",
    "    \"resultType\": \"json\",\n",
    "    \"yr\": \"2022\"\n",
    "}\n",
    "\n",
    "response = requests.get(url, params=params)\n",
    "\n",
    "contents = response.text\n",
    "\n",
    "\n",
    "pp = pprint.PrettyPrinter(indent=4)\n",
    "\n",
    "\n",
    "data = response.json()\n",
    "\n",
    "items = data[\"items\"]\n",
    "df = pd.DataFrame(items)\n",
    "\n",
    "df = df.iloc[:, :5]\n",
    "print(df)"
   ]
  },
  {
   "cell_type": "code",
   "execution_count": 32,
   "id": "3c086f6a",
   "metadata": {},
   "outputs": [
    {
     "name": "stdout",
     "output_type": "stream",
     "text": [
      "<class 'pandas.core.frame.DataFrame'>\n",
      "RangeIndex: 7736 entries, 0 to 7735\n",
      "Data columns (total 5 columns):\n",
      " #   Column         Non-Null Count  Dtype \n",
      "---  ------         --------------  ----- \n",
      " 0   yr             7736 non-null   object\n",
      " 1   indutyLclasNm  7736 non-null   object\n",
      " 2   indutyMlsfcNm  7736 non-null   object\n",
      " 3   corpNm         7736 non-null   object\n",
      " 4   brandNm        7736 non-null   object\n",
      "dtypes: object(5)\n",
      "memory usage: 302.3+ KB\n"
     ]
    }
   ],
   "source": [
    "df.info()"
   ]
  },
  {
   "cell_type": "code",
   "execution_count": 29,
   "id": "ea4813dd",
   "metadata": {},
   "outputs": [
    {
     "data": {
      "text/html": [
       "<div>\n",
       "<style scoped>\n",
       "    .dataframe tbody tr th:only-of-type {\n",
       "        vertical-align: middle;\n",
       "    }\n",
       "\n",
       "    .dataframe tbody tr th {\n",
       "        vertical-align: top;\n",
       "    }\n",
       "\n",
       "    .dataframe thead th {\n",
       "        text-align: right;\n",
       "    }\n",
       "</style>\n",
       "<table border=\"1\" class=\"dataframe\">\n",
       "  <thead>\n",
       "    <tr style=\"text-align: right;\">\n",
       "      <th></th>\n",
       "      <th>yr</th>\n",
       "      <th>indutyLclasNm</th>\n",
       "      <th>indutyMlsfcNm</th>\n",
       "      <th>corpNm</th>\n",
       "      <th>brandNm</th>\n",
       "    </tr>\n",
       "  </thead>\n",
       "  <tbody>\n",
       "    <tr>\n",
       "      <th>7731</th>\n",
       "      <td>2022</td>\n",
       "      <td>서비스</td>\n",
       "      <td>기타 서비스</td>\n",
       "      <td>(주)에이피알</td>\n",
       "      <td>포토그레이</td>\n",
       "    </tr>\n",
       "    <tr>\n",
       "      <th>7732</th>\n",
       "      <td>2022</td>\n",
       "      <td>서비스</td>\n",
       "      <td>기타 서비스</td>\n",
       "      <td>(주)비니즈</td>\n",
       "      <td>디어웰</td>\n",
       "    </tr>\n",
       "    <tr>\n",
       "      <th>7733</th>\n",
       "      <td>2022</td>\n",
       "      <td>외식</td>\n",
       "      <td>아이스크림/빙수</td>\n",
       "      <td>㈜맘스델리</td>\n",
       "      <td>아이스맘스</td>\n",
       "    </tr>\n",
       "    <tr>\n",
       "      <th>7734</th>\n",
       "      <td>2022</td>\n",
       "      <td>외식</td>\n",
       "      <td>아이스크림/빙수</td>\n",
       "      <td>헤이차일드</td>\n",
       "      <td>헤이차일드</td>\n",
       "    </tr>\n",
       "    <tr>\n",
       "      <th>7735</th>\n",
       "      <td>2022</td>\n",
       "      <td>외식</td>\n",
       "      <td>아이스크림/빙수</td>\n",
       "      <td>(주)르뱅코리아</td>\n",
       "      <td>에맥앤볼리오스(Emack &amp; Bolio's)</td>\n",
       "    </tr>\n",
       "  </tbody>\n",
       "</table>\n",
       "</div>"
      ],
      "text/plain": [
       "        yr indutyLclasNm indutyMlsfcNm    corpNm                   brandNm\n",
       "7731  2022           서비스        기타 서비스   (주)에이피알                     포토그레이\n",
       "7732  2022           서비스        기타 서비스    (주)비니즈                       디어웰\n",
       "7733  2022            외식     아이스크림/빙수      ㈜맘스델리                     아이스맘스\n",
       "7734  2022            외식     아이스크림/빙수      헤이차일드                     헤이차일드\n",
       "7735  2022            외식     아이스크림/빙수   (주)르뱅코리아  에맥앤볼리오스(Emack & Bolio's)"
      ]
     },
     "execution_count": 29,
     "metadata": {},
     "output_type": "execute_result"
    }
   ],
   "source": [
    "df.tail()"
   ]
  },
  {
   "cell_type": "code",
   "execution_count": 38,
   "id": "9614c23b",
   "metadata": {},
   "outputs": [
    {
     "ename": "ModuleNotFoundError",
     "evalue": "No module named 'openpyxl'",
     "output_type": "error",
     "traceback": [
      "\u001b[1;31m---------------------------------------------------------------------------\u001b[0m",
      "\u001b[1;31mModuleNotFoundError\u001b[0m                       Traceback (most recent call last)",
      "Cell \u001b[1;32mIn[38], line 1\u001b[0m\n\u001b[1;32m----> 1\u001b[0m \u001b[38;5;28;01mimport\u001b[39;00m \u001b[38;5;21;01mopenpyxl\u001b[39;00m\n\u001b[0;32m      3\u001b[0m df\u001b[38;5;241m.\u001b[39mto_excel(\u001b[38;5;124m\"\u001b[39m\u001b[38;5;124mdata.xlsx\u001b[39m\u001b[38;5;124m\"\u001b[39m, index\u001b[38;5;241m=\u001b[39m\u001b[38;5;28;01mFalse\u001b[39;00m)\n",
      "\u001b[1;31mModuleNotFoundError\u001b[0m: No module named 'openpyxl'"
     ]
    }
   ],
   "source": [
    "import openpyxl\n",
    "\n",
    "df.to_excel(\"data.xlsx\", index=False)"
   ]
  },
  {
   "cell_type": "code",
   "execution_count": 37,
   "id": "665a5d42",
   "metadata": {},
   "outputs": [
    {
     "name": "stdout",
     "output_type": "stream",
     "text": [
      "Requirement already satisfied: openpyxl in c:\\users\\administrator\\anaconda3\\lib\\site-packages (3.0.10)\n",
      "Requirement already satisfied: et_xmlfile in c:\\users\\administrator\\anaconda3\\lib\\site-packages (from openpyxl) (1.1.0)\n"
     ]
    }
   ],
   "source": [
    "!pip install openpyxl"
   ]
  },
  {
   "cell_type": "code",
   "execution_count": null,
   "id": "55c94e84",
   "metadata": {},
   "outputs": [],
   "source": []
  },
  {
   "cell_type": "code",
   "execution_count": null,
   "id": "1d65c8bf",
   "metadata": {},
   "outputs": [],
   "source": []
  },
  {
   "cell_type": "code",
   "execution_count": null,
   "id": "c386f111",
   "metadata": {},
   "outputs": [],
   "source": []
  },
  {
   "cell_type": "code",
   "execution_count": null,
   "id": "0642243b",
   "metadata": {},
   "outputs": [],
   "source": []
  },
  {
   "cell_type": "code",
   "execution_count": null,
   "id": "b35637e9",
   "metadata": {},
   "outputs": [],
   "source": []
  },
  {
   "cell_type": "code",
   "execution_count": null,
   "id": "49ac7dca",
   "metadata": {},
   "outputs": [],
   "source": []
  },
  {
   "cell_type": "code",
   "execution_count": null,
   "id": "b4568b0c",
   "metadata": {},
   "outputs": [],
   "source": []
  },
  {
   "cell_type": "code",
   "execution_count": null,
   "id": "970d2c56",
   "metadata": {},
   "outputs": [],
   "source": []
  },
  {
   "cell_type": "code",
   "execution_count": null,
   "id": "80804e74",
   "metadata": {},
   "outputs": [],
   "source": []
  },
  {
   "cell_type": "code",
   "execution_count": null,
   "id": "afd83f22",
   "metadata": {},
   "outputs": [],
   "source": []
  },
  {
   "cell_type": "code",
   "execution_count": null,
   "id": "f489ce4d",
   "metadata": {},
   "outputs": [],
   "source": []
  },
  {
   "cell_type": "code",
   "execution_count": null,
   "id": "b947f870",
   "metadata": {},
   "outputs": [],
   "source": []
  },
  {
   "cell_type": "code",
   "execution_count": null,
   "id": "efeab57d",
   "metadata": {},
   "outputs": [],
   "source": []
  },
  {
   "cell_type": "code",
   "execution_count": null,
   "id": "ec0c50ac",
   "metadata": {},
   "outputs": [],
   "source": []
  },
  {
   "cell_type": "code",
   "execution_count": null,
   "id": "c0e9846a",
   "metadata": {},
   "outputs": [],
   "source": []
  },
  {
   "cell_type": "code",
   "execution_count": null,
   "id": "22a25419",
   "metadata": {},
   "outputs": [],
   "source": []
  }
 ],
 "metadata": {
  "kernelspec": {
   "display_name": "cap_back_kernel",
   "language": "python",
   "name": "cap_back"
  },
  "language_info": {
   "codemirror_mode": {
    "name": "ipython",
    "version": 3
   },
   "file_extension": ".py",
   "mimetype": "text/x-python",
   "name": "python",
   "nbconvert_exporter": "python",
   "pygments_lexer": "ipython3",
   "version": "3.11.3"
  }
 },
 "nbformat": 4,
 "nbformat_minor": 5
}
